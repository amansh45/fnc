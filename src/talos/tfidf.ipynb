{
  "nbformat": 4,
  "nbformat_minor": 0,
  "metadata": {
    "colab": {
      "name": "Untitled9.ipynb",
      "version": "0.3.2",
      "provenance": [],
      "collapsed_sections": []
    },
    "kernelspec": {
      "name": "python3",
      "display_name": "Python 3"
    }
  },
  "cells": [
    {
      "metadata": {
        "id": "lVSjpTCQbJCr",
        "colab_type": "code",
        "colab": {}
      },
      "cell_type": "code",
      "source": [
        "import nltk"
      ],
      "execution_count": 0,
      "outputs": []
    },
    {
      "metadata": {
        "id": "5n-lt_P1cXbT",
        "colab_type": "code",
        "colab": {}
      },
      "cell_type": "code",
      "source": [
        "train_stance_url='https://raw.githubusercontent.com/FakeNewsChallenge/fnc-1/master/train_stances.csv'\n",
        "train_bodies_url='https://raw.githubusercontent.com/FakeNewsChallenge/fnc-1/master/train_bodies.csv'"
      ],
      "execution_count": 0,
      "outputs": []
    },
    {
      "metadata": {
        "id": "IHgVzvy2gNaP",
        "colab_type": "code",
        "colab": {}
      },
      "cell_type": "code",
      "source": [
        "import pandas as pd\n",
        "def prepare_data():\n",
        "    head = pd.read_csv(train_stance_url)\n",
        "    body = pd.read_csv(train_bodies_url)\n",
        "    head_array = head.values\n",
        "    body_array = body.values\n",
        "    labels = head_array[:,2]\n",
        "    stance_ids = head_array[:,1]\n",
        "    body_ids = body_array[:,0]\n",
        "    new_lab = []\n",
        "    for i in labels:\n",
        "        if i == 'unrelated':\n",
        "            new_lab.append(3)\n",
        "        if i == 'agree':\n",
        "            new_lab.append(0)\n",
        "        if i == 'discuss':\n",
        "            new_lab.append(2)\n",
        "        if i == 'disagree':\n",
        "            new_lab.append(1)\n",
        "    return {'head':head_array,'body':body_array,'labels':new_lab,}\n",
        "    \n",
        "#     pHead, pBody = preprocess(head_array[:,0], body_array[:,1])"
      ],
      "execution_count": 0,
      "outputs": []
    },
    {
      "metadata": {
        "id": "o8fVJ9gvhxcJ",
        "colab_type": "code",
        "colab": {}
      },
      "cell_type": "code",
      "source": [
        "data= prepare_data()"
      ],
      "execution_count": 0,
      "outputs": []
    },
    {
      "metadata": {
        "id": "OIjeZ4bTh1i3",
        "colab_type": "code",
        "colab": {
          "base_uri": "https://localhost:8080/",
          "height": 34
        },
        "outputId": "6b240ed2-f96f-421f-9faa-20ff393b2e81"
      },
      "cell_type": "code",
      "source": [
        "len(data['head'])"
      ],
      "execution_count": 7,
      "outputs": [
        {
          "output_type": "execute_result",
          "data": {
            "text/plain": [
              "49972"
            ]
          },
          "metadata": {
            "tags": []
          },
          "execution_count": 7
        }
      ]
    },
    {
      "metadata": {
        "id": "9ps_HvwKi5i7",
        "colab_type": "code",
        "colab": {}
      },
      "cell_type": "code",
      "source": [
        "import numpy as np\n",
        "h= np.array(data['head'])"
      ],
      "execution_count": 0,
      "outputs": []
    },
    {
      "metadata": {
        "id": "2N3fDiVCjcXV",
        "colab_type": "code",
        "colab": {
          "base_uri": "https://localhost:8080/",
          "height": 34
        },
        "outputId": "65b2a5ff-4beb-46c0-80ad-380d279745e2"
      },
      "cell_type": "code",
      "source": [
        "print(h.shape)"
      ],
      "execution_count": 9,
      "outputs": [
        {
          "output_type": "stream",
          "text": [
            "(49972, 3)\n"
          ],
          "name": "stdout"
        }
      ]
    },
    {
      "metadata": {
        "id": "FBgwX5H2jd-J",
        "colab_type": "code",
        "colab": {
          "base_uri": "https://localhost:8080/",
          "height": 51
        },
        "outputId": "a037ccc5-7366-4b88-97d9-e14acea0b1e2"
      },
      "cell_type": "code",
      "source": [
        "h[0:1]"
      ],
      "execution_count": 10,
      "outputs": [
        {
          "output_type": "execute_result",
          "data": {
            "text/plain": [
              "array([[\"Police find mass graves with at least '15 bodies' near Mexico town where 43 students disappeared after police clash\",\n",
              "        712, 'unrelated']], dtype=object)"
            ]
          },
          "metadata": {
            "tags": []
          },
          "execution_count": 10
        }
      ]
    },
    {
      "metadata": {
        "id": "9SMf57z_jg0O",
        "colab_type": "code",
        "colab": {}
      },
      "cell_type": "code",
      "source": [
        "b= np.array(data['body'])"
      ],
      "execution_count": 0,
      "outputs": []
    },
    {
      "metadata": {
        "id": "t4pbFCDPjo5J",
        "colab_type": "code",
        "colab": {
          "base_uri": "https://localhost:8080/",
          "height": 88
        },
        "outputId": "84db483b-5b57-4fc3-f617-85845adcf54e"
      },
      "cell_type": "code",
      "source": [
        "b[0:1]"
      ],
      "execution_count": 12,
      "outputs": [
        {
          "output_type": "execute_result",
          "data": {
            "text/plain": [
              "array([[0,\n",
              "        'A small meteorite crashed into a wooded area in Nicaragua\\'s capital of Managua overnight, the government said Sunday. Residents reported hearing a mysterious boom that left a 16-foot deep crater near the city\\'s airport, the Associated Press reports. \\n\\nGovernment spokeswoman Rosario Murillo said a committee formed by the government to study the event determined it was a \"relatively small\" meteorite that \"appears to have come off an asteroid that was passing close to Earth.\" House-sized asteroid 2014 RC, which measured 60 feet in diameter, skimmed the Earth this weekend, ABC News reports. \\nMurillo said Nicaragua will ask international experts to help local scientists in understanding what happened.\\n\\nThe crater left by the meteorite had a radius of 39 feet and a depth of 16 feet,  said Humberto Saballos, a volcanologist with the Nicaraguan Institute of Territorial Studies who was on the committee. He said it is still not clear if the meteorite disintegrated or was buried.\\n\\nHumberto Garcia, of the Astronomy Center at the National Autonomous University of Nicaragua, said the meteorite could be related to an asteroid that was forecast to pass by the planet Saturday night.\\n\\n\"We have to study it more because it could be ice or rock,\" he said.\\n\\nWilfried Strauch, an adviser to the Institute of Territorial Studies, said it was \"very strange that no one reported a streak of light. We have to ask if anyone has a photo or something.\"\\n\\nLocal residents reported hearing a loud boom Saturday night, but said they didn\\'t see anything strange in the sky.\\n\\n\"I was sitting on my porch and I saw nothing, then all of a sudden I heard a large blast. We thought it was a bomb because we felt an expansive wave,\" Jorge Santamaria told The Associated Press.\\n\\nThe site of the crater is near Managua\\'s international airport and an air force base. Only journalists from state media were allowed to visit it.']],\n",
              "      dtype=object)"
            ]
          },
          "metadata": {
            "tags": []
          },
          "execution_count": 12
        }
      ]
    },
    {
      "metadata": {
        "id": "uJjX3PfRjq3H",
        "colab_type": "code",
        "colab": {
          "base_uri": "https://localhost:8080/",
          "height": 34
        },
        "outputId": "89c49ad8-2f52-4961-ace9-78b0e41dc317"
      },
      "cell_type": "code",
      "source": [
        "data['labels'][0:1]"
      ],
      "execution_count": 13,
      "outputs": [
        {
          "output_type": "execute_result",
          "data": {
            "text/plain": [
              "[3]"
            ]
          },
          "metadata": {
            "tags": []
          },
          "execution_count": 13
        }
      ]
    },
    {
      "metadata": {
        "id": "TyZkzGKJlLUK",
        "colab_type": "code",
        "colab": {
          "base_uri": "https://localhost:8080/",
          "height": 187
        },
        "outputId": "4d8991e5-f6c6-4b26-a129-eb087ae832fc"
      },
      "cell_type": "code",
      "source": [
        "h[0:5]"
      ],
      "execution_count": 14,
      "outputs": [
        {
          "output_type": "execute_result",
          "data": {
            "text/plain": [
              "array([[\"Police find mass graves with at least '15 bodies' near Mexico town where 43 students disappeared after police clash\",\n",
              "        712, 'unrelated'],\n",
              "       ['Hundreds of Palestinians flee floods in Gaza as Israel opens dams',\n",
              "        158, 'agree'],\n",
              "       [\"Christian Bale passes on role of Steve Jobs, actor reportedly felt he wasn't right for part\",\n",
              "        137, 'unrelated'],\n",
              "       ['HBO and Apple in Talks for $15/Month Apple TV Streaming Service Launching in April',\n",
              "        1034, 'unrelated'],\n",
              "       [\"Spider burrowed through tourist's stomach and up into his chest\",\n",
              "        1923, 'disagree']], dtype=object)"
            ]
          },
          "metadata": {
            "tags": []
          },
          "execution_count": 14
        }
      ]
    },
    {
      "metadata": {
        "id": "AEa_x5TDlRlg",
        "colab_type": "code",
        "colab": {
          "base_uri": "https://localhost:8080/",
          "height": 34
        },
        "outputId": "761142e9-64ab-4a53-dcdb-1e3c1cd6d674"
      },
      "cell_type": "code",
      "source": [
        "data['labels'][0:5]"
      ],
      "execution_count": 15,
      "outputs": [
        {
          "output_type": "execute_result",
          "data": {
            "text/plain": [
              "[3, 0, 3, 3, 1]"
            ]
          },
          "metadata": {
            "tags": []
          },
          "execution_count": 15
        }
      ]
    },
    {
      "metadata": {
        "id": "w-o3mGRDlT8Z",
        "colab_type": "code",
        "colab": {}
      },
      "cell_type": "code",
      "source": [
        "stances_train = pd.read_csv(train_stance_url)\n",
        "body_train = pd.read_csv(train_bodies_url)\n",
        "train = pd.merge(stances_train, body_train, how='left', on='Body ID')"
      ],
      "execution_count": 0,
      "outputs": []
    },
    {
      "metadata": {
        "id": "x8Uteb9JvfB_",
        "colab_type": "code",
        "colab": {
          "base_uri": "https://localhost:8080/",
          "height": 111
        },
        "outputId": "b939ae34-e4fd-4864-e354-32d94712b348"
      },
      "cell_type": "code",
      "source": [
        "train[0:2]"
      ],
      "execution_count": 17,
      "outputs": [
        {
          "output_type": "execute_result",
          "data": {
            "text/html": [
              "<div>\n",
              "<style scoped>\n",
              "    .dataframe tbody tr th:only-of-type {\n",
              "        vertical-align: middle;\n",
              "    }\n",
              "\n",
              "    .dataframe tbody tr th {\n",
              "        vertical-align: top;\n",
              "    }\n",
              "\n",
              "    .dataframe thead th {\n",
              "        text-align: right;\n",
              "    }\n",
              "</style>\n",
              "<table border=\"1\" class=\"dataframe\">\n",
              "  <thead>\n",
              "    <tr style=\"text-align: right;\">\n",
              "      <th></th>\n",
              "      <th>Headline</th>\n",
              "      <th>Body ID</th>\n",
              "      <th>Stance</th>\n",
              "      <th>articleBody</th>\n",
              "    </tr>\n",
              "  </thead>\n",
              "  <tbody>\n",
              "    <tr>\n",
              "      <th>0</th>\n",
              "      <td>Police find mass graves with at least '15 bodi...</td>\n",
              "      <td>712</td>\n",
              "      <td>unrelated</td>\n",
              "      <td>Danny Boyle is directing the untitled film\\n\\n...</td>\n",
              "    </tr>\n",
              "    <tr>\n",
              "      <th>1</th>\n",
              "      <td>Hundreds of Palestinians flee floods in Gaza a...</td>\n",
              "      <td>158</td>\n",
              "      <td>agree</td>\n",
              "      <td>Hundreds of Palestinians were evacuated from t...</td>\n",
              "    </tr>\n",
              "  </tbody>\n",
              "</table>\n",
              "</div>"
            ],
            "text/plain": [
              "                                            Headline  Body ID     Stance  \\\n",
              "0  Police find mass graves with at least '15 bodi...      712  unrelated   \n",
              "1  Hundreds of Palestinians flee floods in Gaza a...      158      agree   \n",
              "\n",
              "                                         articleBody  \n",
              "0  Danny Boyle is directing the untitled film\\n\\n...  \n",
              "1  Hundreds of Palestinians were evacuated from t...  "
            ]
          },
          "metadata": {
            "tags": []
          },
          "execution_count": 17
        }
      ]
    },
    {
      "metadata": {
        "id": "w32fw4aUvjjT",
        "colab_type": "code",
        "colab": {
          "base_uri": "https://localhost:8080/",
          "height": 34
        },
        "outputId": "49c7ca86-7ac3-4325-8350-ba7d241d247d"
      },
      "cell_type": "code",
      "source": [
        "train.shape"
      ],
      "execution_count": 18,
      "outputs": [
        {
          "output_type": "execute_result",
          "data": {
            "text/plain": [
              "(49972, 4)"
            ]
          },
          "metadata": {
            "tags": []
          },
          "execution_count": 18
        }
      ]
    },
    {
      "metadata": {
        "id": "MVN3igVgvsyO",
        "colab_type": "code",
        "colab": {}
      },
      "cell_type": "code",
      "source": [
        "dic={'agree':0,'disagree':1,'discuss':2,'unrelated':3}\n",
        "train['Stance']=train['Stance'].map(dic) "
      ],
      "execution_count": 0,
      "outputs": []
    },
    {
      "metadata": {
        "id": "euFQQXBFwbAK",
        "colab_type": "code",
        "colab": {
          "base_uri": "https://localhost:8080/",
          "height": 80
        },
        "outputId": "8c854a29-cf5b-45e3-e0eb-cbfc38a48d7a"
      },
      "cell_type": "code",
      "source": [
        "train[0:1]"
      ],
      "execution_count": 20,
      "outputs": [
        {
          "output_type": "execute_result",
          "data": {
            "text/html": [
              "<div>\n",
              "<style scoped>\n",
              "    .dataframe tbody tr th:only-of-type {\n",
              "        vertical-align: middle;\n",
              "    }\n",
              "\n",
              "    .dataframe tbody tr th {\n",
              "        vertical-align: top;\n",
              "    }\n",
              "\n",
              "    .dataframe thead th {\n",
              "        text-align: right;\n",
              "    }\n",
              "</style>\n",
              "<table border=\"1\" class=\"dataframe\">\n",
              "  <thead>\n",
              "    <tr style=\"text-align: right;\">\n",
              "      <th></th>\n",
              "      <th>Headline</th>\n",
              "      <th>Body ID</th>\n",
              "      <th>Stance</th>\n",
              "      <th>articleBody</th>\n",
              "    </tr>\n",
              "  </thead>\n",
              "  <tbody>\n",
              "    <tr>\n",
              "      <th>0</th>\n",
              "      <td>Police find mass graves with at least '15 bodi...</td>\n",
              "      <td>712</td>\n",
              "      <td>3</td>\n",
              "      <td>Danny Boyle is directing the untitled film\\n\\n...</td>\n",
              "    </tr>\n",
              "  </tbody>\n",
              "</table>\n",
              "</div>"
            ],
            "text/plain": [
              "                                            Headline  Body ID  Stance  \\\n",
              "0  Police find mass graves with at least '15 bodi...      712       3   \n",
              "\n",
              "                                         articleBody  \n",
              "0  Danny Boyle is directing the untitled film\\n\\n...  "
            ]
          },
          "metadata": {
            "tags": []
          },
          "execution_count": 20
        }
      ]
    },
    {
      "metadata": {
        "id": "_47nyHG5w_8P",
        "colab_type": "code",
        "colab": {
          "base_uri": "https://localhost:8080/",
          "height": 68
        },
        "outputId": "e5dba07f-cd30-4835-bfcc-e876bb6acc12"
      },
      "cell_type": "code",
      "source": [
        "nltk.download('stopwords')"
      ],
      "execution_count": 21,
      "outputs": [
        {
          "output_type": "stream",
          "text": [
            "[nltk_data] Downloading package stopwords to /root/nltk_data...\n",
            "[nltk_data]   Package stopwords is already up-to-date!\n"
          ],
          "name": "stdout"
        },
        {
          "output_type": "execute_result",
          "data": {
            "text/plain": [
              "True"
            ]
          },
          "metadata": {
            "tags": []
          },
          "execution_count": 21
        }
      ]
    },
    {
      "metadata": {
        "id": "TxqFX4Yqwkay",
        "colab_type": "code",
        "colab": {}
      },
      "cell_type": "code",
      "source": [
        "english_stemmer = nltk.stem.SnowballStemmer('english')\n",
        "token_pattern = r\"(?u)\\b\\w\\w+\\b\"\n",
        "stopwords = set(nltk.corpus.stopwords.words('english'))"
      ],
      "execution_count": 0,
      "outputs": []
    },
    {
      "metadata": {
        "id": "N89S21X20Aop",
        "colab_type": "code",
        "colab": {}
      },
      "cell_type": "code",
      "source": [
        "def stem_tokens(tokens, stemmer):\n",
        "    stemmed = []\n",
        "    for token in tokens:\n",
        "        stemmed.append(stemmer.stem(token))\n",
        "    return stemmed"
      ],
      "execution_count": 0,
      "outputs": []
    },
    {
      "metadata": {
        "id": "8cwGvDhr0Tdm",
        "colab_type": "code",
        "colab": {}
      },
      "cell_type": "code",
      "source": [
        "import re\n",
        "def preprocess_data(line,\n",
        "                    token_pattern=token_pattern,\n",
        "                    exclude_stopword=True,\n",
        "                    stem=True):\n",
        "    token_pattern = re.compile(token_pattern, flags = re.UNICODE)\n",
        "    tokens = [x.lower() for x in token_pattern.findall(line)]\n",
        "    tokens_stemmed = tokens\n",
        "    if stem:\n",
        "#         pass\n",
        "        tokens_stemmed = stem_tokens(tokens, english_stemmer)\n",
        "    if exclude_stopword:\n",
        "#         pass\n",
        "        tokens_stemmed = [x for x in tokens_stemmed if x not in stopwords]\n",
        "\n",
        "    return tokens_stemmed"
      ],
      "execution_count": 0,
      "outputs": []
    },
    {
      "metadata": {
        "id": "PPPK65MZ0V_j",
        "colab_type": "code",
        "outputId": "19765502-4d0c-43dd-8111-f99c16a667b6",
        "colab": {
          "base_uri": "https://localhost:8080/",
          "height": 34
        }
      },
      "cell_type": "code",
      "source": [
        "preprocess_data('She is running. He ran away')\n",
        "# train[0:5]"
      ],
      "execution_count": 38,
      "outputs": [
        {
          "output_type": "execute_result",
          "data": {
            "text/plain": [
              "['run', 'ran', 'away']"
            ]
          },
          "metadata": {
            "tags": []
          },
          "execution_count": 38
        }
      ]
    },
    {
      "metadata": {
        "id": "ZfeJYNUk0ZTB",
        "colab_type": "code",
        "colab": {}
      },
      "cell_type": "code",
      "source": [
        "preprocess_data(train['Headline'])"
      ],
      "execution_count": 0,
      "outputs": []
    },
    {
      "metadata": {
        "id": "K0uMcKemI1qL",
        "colab_type": "text"
      },
      "cell_type": "markdown",
      "source": [
        "Concatinating headline and body strings"
      ]
    },
    {
      "metadata": {
        "id": "lcMppNPH0ca2",
        "colab_type": "code",
        "colab": {}
      },
      "cell_type": "code",
      "source": [
        "train['combined']= train['Headline'] +\" \"+ train['articleBody']"
      ],
      "execution_count": 0,
      "outputs": []
    },
    {
      "metadata": {
        "id": "dBmOQSM__BZs",
        "colab_type": "code",
        "colab": {
          "base_uri": "https://localhost:8080/",
          "height": 54
        },
        "outputId": "9b1718ff-9e88-4cc0-f7db-43b37189823c"
      },
      "cell_type": "code",
      "source": [
        "train['combined'][0]"
      ],
      "execution_count": 40,
      "outputs": [
        {
          "output_type": "execute_result",
          "data": {
            "text/plain": [
              "'Police find mass graves with at least \\'15 bodies\\' near Mexico town where 43 students disappeared after police clash Danny Boyle is directing the untitled film\\n\\nSeth Rogen is being eyed to play Apple co-founder Steve Wozniak in Sony’s Steve Jobs biopic.\\n\\nDanny Boyle is directing the untitled film, based on Walter Isaacson\\'s book and adapted by Aaron Sorkin, which is one of the most anticipated biopics in recent years.\\n\\nNegotiations have not yet begun, and it’s not even clear if Rogen has an official offer, but the producers — Scott Rudin, Guymon Casady and Mark Gordon — have set their sights on the talent and are in talks.\\n\\nOf course, this may all be for naught as Christian Bale, the actor who is to play Jobs, is still in the midst of closing his deal. Sources say that dealmaking process is in a sensitive stage.\\n\\nInsiders say Boyle will is flying to Los Angeles to meet with actress to play one of the female leads, an assistant to Jobs. Insiders say that Jessica Chastain is one of the actresses on the meeting list.\\n\\nWozniak, known as \"Woz,\" co-founded Apple with Jobs and Ronald Wayne. He first met Jobs when they worked at Atari and later was responsible for creating the early Apple computers.'"
            ]
          },
          "metadata": {
            "tags": []
          },
          "execution_count": 40
        }
      ]
    },
    {
      "metadata": {
        "id": "VAyLAhD__Dsl",
        "colab_type": "code",
        "colab": {
          "base_uri": "https://localhost:8080/",
          "height": 34
        },
        "outputId": "8de9933d-4c4f-47ad-b044-a93d67105cda"
      },
      "cell_type": "code",
      "source": [
        "train['Headline'][0]"
      ],
      "execution_count": 41,
      "outputs": [
        {
          "output_type": "execute_result",
          "data": {
            "text/plain": [
              "\"Police find mass graves with at least '15 bodies' near Mexico town where 43 students disappeared after police clash\""
            ]
          },
          "metadata": {
            "tags": []
          },
          "execution_count": 41
        }
      ]
    },
    {
      "metadata": {
        "id": "5JMZ46h5I-sb",
        "colab_type": "text"
      },
      "cell_type": "markdown",
      "source": [
        "**Preprocessing** the combined string = Stemming + Stop words removal\n",
        "\n",
        "Generating **unigrams**= ['this , 'is' , 'a' ,'cat']"
      ]
    },
    {
      "metadata": {
        "id": "e77rzrGR_RU7",
        "colab_type": "code",
        "colab": {}
      },
      "cell_type": "code",
      "source": [
        "unigram=[]\n",
        "for i in train['combined']:\n",
        "  unigram.append(preprocess_data(i))"
      ],
      "execution_count": 0,
      "outputs": []
    },
    {
      "metadata": {
        "id": "oXUfFDLy_u6l",
        "colab_type": "code",
        "colab": {}
      },
      "cell_type": "code",
      "source": [
        "head_unigram=[]\n",
        "for i in train['Headline']:\n",
        "  head_unigram.append(preprocess_data(i))"
      ],
      "execution_count": 0,
      "outputs": []
    },
    {
      "metadata": {
        "id": "z76koI9J_1JH",
        "colab_type": "code",
        "colab": {}
      },
      "cell_type": "code",
      "source": [
        "body_unigram=[]\n",
        "for i in train['articleBody']:\n",
        "  body_unigram.append(preprocess_data(i))\n"
      ],
      "execution_count": 0,
      "outputs": []
    },
    {
      "metadata": {
        "id": "oKXyCnoAGIe5",
        "colab_type": "code",
        "colab": {
          "base_uri": "https://localhost:8080/",
          "height": 34
        },
        "outputId": "b6cde593-61a0-47a5-da2e-15a1f57fd4aa"
      },
      "cell_type": "code",
      "source": [
        "unigram_np = np.array(unigram)\n",
        "unigram_np.shape"
      ],
      "execution_count": 45,
      "outputs": [
        {
          "output_type": "execute_result",
          "data": {
            "text/plain": [
              "(49972,)"
            ]
          },
          "metadata": {
            "tags": []
          },
          "execution_count": 45
        }
      ]
    },
    {
      "metadata": {
        "id": "3B3d-Q7KJjd_",
        "colab_type": "text"
      },
      "cell_type": "markdown",
      "source": [
        "**Making strings from unigrams** "
      ]
    },
    {
      "metadata": {
        "id": "dv6nUPBiGKNT",
        "colab_type": "code",
        "colab": {}
      },
      "cell_type": "code",
      "source": [
        "\n",
        "unigram_comb=[]\n",
        "for count,i in enumerate(unigram_np):\n",
        "  unigram_comb.append(' '.join(unigram_np[count]))"
      ],
      "execution_count": 0,
      "outputs": []
    },
    {
      "metadata": {
        "id": "CkZ6yT7hL9da",
        "colab_type": "code",
        "colab": {}
      },
      "cell_type": "code",
      "source": [
        "unigram_comb_head=[]\n",
        "for count,i in enumerate(head_unigram):\n",
        "  unigram_comb_head.append(' '.join(head_unigram[count]))"
      ],
      "execution_count": 0,
      "outputs": []
    },
    {
      "metadata": {
        "id": "G9y7DNspMPT0",
        "colab_type": "code",
        "colab": {}
      },
      "cell_type": "code",
      "source": [
        "unigram_comb_body=[]\n",
        "for count,i in enumerate(body_unigram):\n",
        "  unigram_comb_body.append(' '.join(body_unigram[count]))"
      ],
      "execution_count": 0,
      "outputs": []
    },
    {
      "metadata": {
        "id": "XRLX-YwUGSxQ",
        "colab_type": "code",
        "colab": {
          "base_uri": "https://localhost:8080/",
          "height": 34
        },
        "outputId": "17f63900-8ac9-4fe8-fa80-b68664fff54a"
      },
      "cell_type": "code",
      "source": [
        "len(unigram_comb)"
      ],
      "execution_count": 49,
      "outputs": [
        {
          "output_type": "execute_result",
          "data": {
            "text/plain": [
              "49972"
            ]
          },
          "metadata": {
            "tags": []
          },
          "execution_count": 49
        }
      ]
    },
    {
      "metadata": {
        "id": "K6OqMmsYGc0l",
        "colab_type": "code",
        "colab": {
          "base_uri": "https://localhost:8080/",
          "height": 34
        },
        "outputId": "96b2d701-6ee8-44f8-fb20-ff9d0dcfd1e0"
      },
      "cell_type": "code",
      "source": [
        "len(unigram_comb[0])"
      ],
      "execution_count": 50,
      "outputs": [
        {
          "output_type": "execute_result",
          "data": {
            "text/plain": [
              "749"
            ]
          },
          "metadata": {
            "tags": []
          },
          "execution_count": 50
        }
      ]
    },
    {
      "metadata": {
        "id": "Z68QXhxtHHY_",
        "colab_type": "code",
        "colab": {
          "base_uri": "https://localhost:8080/",
          "height": 34
        },
        "outputId": "1696fabd-c178-420e-dcb4-2637b35174ac"
      },
      "cell_type": "code",
      "source": [
        "len(unigram)"
      ],
      "execution_count": 51,
      "outputs": [
        {
          "output_type": "execute_result",
          "data": {
            "text/plain": [
              "49972"
            ]
          },
          "metadata": {
            "tags": []
          },
          "execution_count": 51
        }
      ]
    },
    {
      "metadata": {
        "id": "yKCHlMZjHPrA",
        "colab_type": "code",
        "colab": {}
      },
      "cell_type": "code",
      "source": [
        "train['headline_unigram']=np.array(unigram_comb_head)\n",
        "train['combined_unigram']=np.array(unigram_comb)\n",
        "train['body_unigram']=np.array(unigram_comb_body)"
      ],
      "execution_count": 0,
      "outputs": []
    },
    {
      "metadata": {
        "id": "1uUPY33cMiiu",
        "colab_type": "code",
        "colab": {}
      },
      "cell_type": "code",
      "source": [
        "vocab_size=5000\n",
        "from sklearn.feature_extraction.text import TfidfVectorizer\n",
        "vec = TfidfVectorizer(ngram_range=(1,3), max_df=0.8, min_df=2,max_features=vocab_size)\n",
        "vec.fit(train[\"combined_unigram\"]) # Tf-idf calculated on the combined training + test set\n",
        "vocabulary = vec.vocabulary_"
      ],
      "execution_count": 0,
      "outputs": []
    },
    {
      "metadata": {
        "id": "sR-yh9AeM52Z",
        "colab_type": "code",
        "outputId": "783d91cc-48e6-4289-f578-a0bbf36b5bda",
        "colab": {
          "base_uri": "https://localhost:8080/",
          "height": 51
        }
      },
      "cell_type": "code",
      "source": [
        "vecH = TfidfVectorizer(ngram_range=(1, 3), max_df=0.8, min_df=2, vocabulary=vocabulary)\n",
        "xHeadlineTfidf = vecH.fit_transform(train['headline_unigram']) # use ' '.join(Headline_unigram) instead of Headline since the former is already stemmed\n",
        "print ('xHeadlineTfidf.shape:')\n",
        "print (xHeadlineTfidf.shape)"
      ],
      "execution_count": 59,
      "outputs": [
        {
          "output_type": "stream",
          "text": [
            "xHeadlineTfidf.shape:\n",
            "(49972, 5000)\n"
          ],
          "name": "stdout"
        }
      ]
    },
    {
      "metadata": {
        "id": "PkdDMVUzNox7",
        "colab_type": "code",
        "outputId": "ddcd2000-6133-42c8-dd09-64ff6fbb5763",
        "colab": {
          "base_uri": "https://localhost:8080/",
          "height": 34
        }
      },
      "cell_type": "code",
      "source": [
        "len(vocabulary)"
      ],
      "execution_count": 60,
      "outputs": [
        {
          "output_type": "execute_result",
          "data": {
            "text/plain": [
              "5000"
            ]
          },
          "metadata": {
            "tags": []
          },
          "execution_count": 60
        }
      ]
    },
    {
      "metadata": {
        "id": "ts1ucErNN0Uy",
        "colab_type": "code",
        "outputId": "ef5b85ea-b167-45b4-fef1-9f6660d22e1c",
        "colab": {
          "base_uri": "https://localhost:8080/",
          "height": 51
        }
      },
      "cell_type": "code",
      "source": [
        "xHeadlineTfidf[0]"
      ],
      "execution_count": 61,
      "outputs": [
        {
          "output_type": "execute_result",
          "data": {
            "text/plain": [
              "<1x5000 sparse matrix of type '<class 'numpy.float64'>'\n",
              "\twith 16 stored elements in Compressed Sparse Row format>"
            ]
          },
          "metadata": {
            "tags": []
          },
          "execution_count": 61
        }
      ]
    },
    {
      "metadata": {
        "id": "BRSoz_EwN-pQ",
        "colab_type": "code",
        "outputId": "da9960d8-b3d6-454e-f952-ad31e517224d",
        "colab": {
          "base_uri": "https://localhost:8080/",
          "height": 51
        }
      },
      "cell_type": "code",
      "source": [
        "vecB = TfidfVectorizer(ngram_range=(1, 3), max_df=0.8, min_df=2, vocabulary=vocabulary,max_features=vocab_size)\n",
        "xBodyTfidf = vecB.fit_transform(train['body_unigram'])\n",
        "print ('xBodyTfidf.shape:')\n",
        "print (xBodyTfidf.shape)"
      ],
      "execution_count": 62,
      "outputs": [
        {
          "output_type": "stream",
          "text": [
            "xBodyTfidf.shape:\n",
            "(49972, 5000)\n"
          ],
          "name": "stdout"
        }
      ]
    },
    {
      "metadata": {
        "id": "awr06_Fvwdi9",
        "colab_type": "code",
        "colab": {}
      },
      "cell_type": "code",
      "source": [
        "from xgboost import XGBClassifier\n",
        "from sklearn.model_selection import train_test_split\n",
        "from sklearn.metrics import accuracy_score\n",
        "\n",
        "x= np.hstack((xHeadlineTfidf,xBodyTfidf))\n"
      ],
      "execution_count": 0,
      "outputs": []
    },
    {
      "metadata": {
        "id": "BAajVndfwt7E",
        "colab_type": "code",
        "colab": {
          "base_uri": "https://localhost:8080/",
          "height": 131
        },
        "outputId": "ae6d00f2-505b-491d-9b85-5b2ed008d630"
      },
      "cell_type": "code",
      "source": [
        "train[0:1]"
      ],
      "execution_count": 52,
      "outputs": [
        {
          "output_type": "execute_result",
          "data": {
            "text/html": [
              "<div>\n",
              "<style scoped>\n",
              "    .dataframe tbody tr th:only-of-type {\n",
              "        vertical-align: middle;\n",
              "    }\n",
              "\n",
              "    .dataframe tbody tr th {\n",
              "        vertical-align: top;\n",
              "    }\n",
              "\n",
              "    .dataframe thead th {\n",
              "        text-align: right;\n",
              "    }\n",
              "</style>\n",
              "<table border=\"1\" class=\"dataframe\">\n",
              "  <thead>\n",
              "    <tr style=\"text-align: right;\">\n",
              "      <th></th>\n",
              "      <th>Headline</th>\n",
              "      <th>Body ID</th>\n",
              "      <th>Stance</th>\n",
              "      <th>articleBody</th>\n",
              "      <th>combined</th>\n",
              "      <th>headline_unigram</th>\n",
              "      <th>combined_unigram</th>\n",
              "      <th>body_unigram</th>\n",
              "    </tr>\n",
              "  </thead>\n",
              "  <tbody>\n",
              "    <tr>\n",
              "      <th>0</th>\n",
              "      <td>Police find mass graves with at least '15 bodi...</td>\n",
              "      <td>712</td>\n",
              "      <td>3</td>\n",
              "      <td>Danny Boyle is directing the untitled film\\n\\n...</td>\n",
              "      <td>Police find mass graves with at least '15 bodi...</td>\n",
              "      <td>polic find mass grave least 15 bodi near mexic...</td>\n",
              "      <td>polic find mass grave least 15 bodi near mexic...</td>\n",
              "      <td>danni boyl direct untitl film seth rogen eye p...</td>\n",
              "    </tr>\n",
              "  </tbody>\n",
              "</table>\n",
              "</div>"
            ],
            "text/plain": [
              "                                            Headline  Body ID  Stance  \\\n",
              "0  Police find mass graves with at least '15 bodi...      712       3   \n",
              "\n",
              "                                         articleBody  \\\n",
              "0  Danny Boyle is directing the untitled film\\n\\n...   \n",
              "\n",
              "                                            combined  \\\n",
              "0  Police find mass graves with at least '15 bodi...   \n",
              "\n",
              "                                    headline_unigram  \\\n",
              "0  polic find mass grave least 15 bodi near mexic...   \n",
              "\n",
              "                                    combined_unigram  \\\n",
              "0  polic find mass grave least 15 bodi near mexic...   \n",
              "\n",
              "                                        body_unigram  \n",
              "0  danni boyl direct untitl film seth rogen eye p...  "
            ]
          },
          "metadata": {
            "tags": []
          },
          "execution_count": 52
        }
      ]
    },
    {
      "metadata": {
        "id": "-M2H5Gtj5_oC",
        "colab_type": "code",
        "colab": {}
      },
      "cell_type": "code",
      "source": [
        "train['xHeadlineTfidf']=xHeadlineTfidf\n",
        "train['xBodyTfidf']=xBodyTfidf\n",
        "train['combinedTfidf']=x"
      ],
      "execution_count": 0,
      "outputs": []
    },
    {
      "metadata": {
        "id": "8eDwdCyD6uX_",
        "colab_type": "code",
        "colab": {
          "base_uri": "https://localhost:8080/",
          "height": 119
        },
        "outputId": "b6d5902b-1c69-43ad-d31c-2170cf63d5a9"
      },
      "cell_type": "code",
      "source": [
        "a = np.array([[1,2],[3,4],[50,51]]) \n",
        "b = np.array([[5,6],[7,8],[9,10]])\n",
        "print(a.shape)\n",
        "print(b.shape)\n",
        "c = np.hstack((a,b))\n",
        "print(c)\n",
        "print(c.shape)"
      ],
      "execution_count": 59,
      "outputs": [
        {
          "output_type": "stream",
          "text": [
            "(3, 2)\n",
            "(3, 2)\n",
            "[[ 1  2  5  6]\n",
            " [ 3  4  7  8]\n",
            " [50 51  9 10]]\n",
            "(3, 4)\n"
          ],
          "name": "stdout"
        }
      ]
    },
    {
      "metadata": {
        "id": "KmNiWMPM60D8",
        "colab_type": "code",
        "colab": {
          "base_uri": "https://localhost:8080/",
          "height": 51
        },
        "outputId": "2e257540-001b-4f28-a3c7-854cc572f96d"
      },
      "cell_type": "code",
      "source": [
        "print(xHeadlineTfidf.shape)\n",
        "print(xBodyTfidf.shape)"
      ],
      "execution_count": 60,
      "outputs": [
        {
          "output_type": "stream",
          "text": [
            "(49972, 507813)\n",
            "(49972, 507813)\n"
          ],
          "name": "stdout"
        }
      ]
    },
    {
      "metadata": {
        "id": "ykR9rXfp7nhg",
        "colab_type": "code",
        "colab": {
          "base_uri": "https://localhost:8080/",
          "height": 34
        },
        "outputId": "1f69b111-4018-4317-a23e-6f1432f02c7b"
      },
      "cell_type": "code",
      "source": [
        "x= np.hstack((xHeadlineTfidf,xBodyTfidf))\n",
        "print(x.shape)"
      ],
      "execution_count": 62,
      "outputs": [
        {
          "output_type": "stream",
          "text": [
            "(2,)\n"
          ],
          "name": "stdout"
        }
      ]
    },
    {
      "metadata": {
        "id": "3QfCeMpR7vjk",
        "colab_type": "code",
        "colab": {}
      },
      "cell_type": "code",
      "source": [
        "xheadline=np.array(xHeadlineTfidf)"
      ],
      "execution_count": 0,
      "outputs": []
    },
    {
      "metadata": {
        "id": "Umw48u_X755Z",
        "colab_type": "code",
        "colab": {
          "base_uri": "https://localhost:8080/",
          "height": 34
        },
        "outputId": "0b01b544-0172-42ad-b822-d7e9ef1a9e8e"
      },
      "cell_type": "code",
      "source": [
        "type(xHeadlineTfidf)"
      ],
      "execution_count": 64,
      "outputs": [
        {
          "output_type": "execute_result",
          "data": {
            "text/plain": [
              "scipy.sparse.csr.csr_matrix"
            ]
          },
          "metadata": {
            "tags": []
          },
          "execution_count": 64
        }
      ]
    },
    {
      "metadata": {
        "id": "c7rGYFgR8AVj",
        "colab_type": "code",
        "colab": {}
      },
      "cell_type": "code",
      "source": [
        "from scipy.sparse import csr_matrix\n",
        "xheadline= xHeadlineTfidf.toarray()"
      ],
      "execution_count": 0,
      "outputs": []
    },
    {
      "metadata": {
        "id": "OcSFZgkH85mH",
        "colab_type": "code",
        "colab": {
          "base_uri": "https://localhost:8080/",
          "height": 34
        },
        "outputId": "9c3e2036-aa11-41ad-a1bf-74cc7221e668"
      },
      "cell_type": "code",
      "source": [
        "xheadline.shape"
      ],
      "execution_count": 71,
      "outputs": [
        {
          "output_type": "execute_result",
          "data": {
            "text/plain": [
              "(49972, 5000)"
            ]
          },
          "metadata": {
            "tags": []
          },
          "execution_count": 71
        }
      ]
    },
    {
      "metadata": {
        "id": "SUQe6Iys87XM",
        "colab_type": "code",
        "colab": {}
      },
      "cell_type": "code",
      "source": [
        ""
      ],
      "execution_count": 0,
      "outputs": []
    }
  ]
}